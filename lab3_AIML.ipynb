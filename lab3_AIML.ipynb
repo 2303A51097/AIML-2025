{
  "nbformat": 4,
  "nbformat_minor": 0,
  "metadata": {
    "colab": {
      "provenance": [],
      "authorship_tag": "ABX9TyPvAxOGODoolZs02wdVGfrH",
      "include_colab_link": true
    },
    "kernelspec": {
      "name": "python3",
      "display_name": "Python 3"
    },
    "language_info": {
      "name": "python"
    }
  },
  "cells": [
    {
      "cell_type": "markdown",
      "metadata": {
        "id": "view-in-github",
        "colab_type": "text"
      },
      "source": [
        "<a href=\"https://colab.research.google.com/github/2303A51097/AIML-2025/blob/main/lab3_AIML.ipynb\" target=\"_parent\"><img src=\"https://colab.research.google.com/assets/colab-badge.svg\" alt=\"Open In Colab\"/></a>"
      ]
    },
    {
      "cell_type": "markdown",
      "source": [
        "#part-1 implement the AI game Strategy\n"
      ],
      "metadata": {
        "id": "aBxeuQfYZQK-"
      }
    },
    {
      "cell_type": "markdown",
      "source": [
        "##Install the Python Libraries required for Game Strategy."
      ],
      "metadata": {
        "id": "e3seRds7Zjf2"
      }
    },
    {
      "cell_type": "code",
      "source": [
        "from collections import namedtuple, Counter, defaultdict\n",
        "import random\n",
        "import math\n",
        "import functools\n",
        "\n",
        "# Define the cache using functools.lru_cache\n",
        "cache = functools.lru_cache(10**6)"
      ],
      "metadata": {
        "collapsed": true,
        "id": "42J8YDbuZwjV"
      },
      "execution_count": 9,
      "outputs": []
    },
    {
      "cell_type": "markdown",
      "source": [
        "#GAME CLASS\n"
      ],
      "metadata": {
        "id": "lPfy1s0NZ8j-"
      }
    },
    {
      "cell_type": "code",
      "source": [
        "class Game:\n",
        "    def actions(self, state):\n",
        "        \"\"\"Return a collection of the allowable moves from this state.\"\"\"\n",
        "        raise NotImplementedError\n",
        "\n",
        "    def result(self, state, move):\n",
        "        \"\"\"Return the state that results from making a move from a state.\"\"\"\n",
        "        raise NotImplementedError\n",
        "\n",
        "    def is_terminal(self, state):\n",
        "        \"\"\"Return True if this is a final state for the game.\"\"\"\n",
        "        return not self.actions(state)\n",
        "\n",
        "    def utility(self, state, player):\n",
        "        \"\"\"Return the value of this final state to player.\"\"\"\n",
        "        raise NotImplementedError"
      ],
      "metadata": {
        "id": "SORlKEECaCqN"
      },
      "execution_count": 10,
      "outputs": []
    },
    {
      "cell_type": "markdown",
      "source": [
        "##Implement a Player Game using the Game Class Constructor\n"
      ],
      "metadata": {
        "id": "C7_q6Dg6aurf"
      }
    },
    {
      "cell_type": "code",
      "source": [
        "def play_game(game, strategies: dict, verbose=False):\n",
        "    \"\"\"\n",
        "    Play a turn-taking game. strategies is a dictionary where the keys are player names,\n",
        "    and the values are functions that take the current state and the game as arguments,\n",
        "    returning the player's move.\n",
        "    \"\"\"\n",
        "    state = game.initial\n",
        "    while not game.is_terminal(state):\n",
        "        player = state.to_move\n",
        "        move = strategies[player](state, game)\n",
        "        state = game.result(state, move)\n",
        "        if verbose:\n",
        "            print('Player', player, 'move:', move)\n",
        "            print(state)\n",
        "    return state"
      ],
      "metadata": {
        "id": "DHaRH_STbXOW"
      },
      "execution_count": 11,
      "outputs": []
    },
    {
      "cell_type": "markdown",
      "source": [
        "#Part 2 -Implement the Game Strategy Algorithms."
      ],
      "metadata": {
        "id": "khbQIt27b6ah"
      }
    },
    {
      "cell_type": "markdown",
      "source": [
        "# Implement the MiniMax Search Algorithm"
      ],
      "metadata": {
        "id": "ZLjlTIyEccUA"
      }
    },
    {
      "cell_type": "code",
      "source": [
        "import math\n",
        "\n",
        "def minimax_search(game, state):\n",
        "    # Search game tree to determine the best move; return (value, move) pair.\n",
        "    player = state.to_move\n",
        "\n",
        "    def max_value(state):\n",
        "        if game.is_terminal(state):\n",
        "            return game.utility(state, player), None\n",
        "\n",
        "        v, move = -math.inf, None\n",
        "        for a in game.actions(state):\n",
        "            v2, _ = min_value(game.result(state, a))\n",
        "            if v2 > v:\n",
        "                v, move = v2, a\n",
        "        return v, move\n",
        "\n",
        "    def min_value(state):\n",
        "        if game.is_terminal(state):\n",
        "            return game.utility(state, player), None\n",
        "\n",
        "        v, move = math.inf, None\n",
        "        for a in game.actions(state):\n",
        "            v2, _ = max_value(game.result(state, a))\n",
        "            if v2 < v:\n",
        "                v, move = v2, a\n",
        "        return v, move\n",
        "\n",
        "    return max_value(state)\n"
      ],
      "metadata": {
        "id": "sPE35iOGc2Ze"
      },
      "execution_count": 12,
      "outputs": []
    },
    {
      "cell_type": "markdown",
      "source": [
        "#2. Implement the Alpha-Beta Search Algorithm"
      ],
      "metadata": {
        "id": "GLMXdXGHc9Eg"
      }
    },
    {
      "cell_type": "code",
      "source": [
        "import math\n",
        "\n",
        "def alphabeta_search(game, state):\n",
        "    # Search game tree to determine the best action; use alpha-beta pruning.\n",
        "    # Search all the way to the leaves.\n",
        "    player = state.to_move\n",
        "\n",
        "    def max_value(state, alpha, beta):\n",
        "        if game.is_terminal(state):\n",
        "            return game.utility(state, player), None\n",
        "\n",
        "        v, move = -math.inf, None\n",
        "        for a in game.actions(state):\n",
        "            v2, _ = min_value(game.result(state, a), alpha, beta)\n",
        "            if v2 > v:\n",
        "                v, move = v2, a\n",
        "            alpha = max(alpha, v)\n",
        "            if v >= beta:\n",
        "                return v, move\n",
        "        return v, move\n",
        "\n",
        "    def min_value(state, alpha, beta):\n",
        "        if game.is_terminal(state):\n",
        "            return game.utility(state, player), None\n",
        "\n",
        "        v, move = math.inf, None\n",
        "        for a in game.actions(state):\n",
        "            v2, _ = max_value(game.result(state, a), alpha, beta)\n",
        "            if v2 < v:\n",
        "                v, move = v2, a\n",
        "            beta = min(beta, v)\n",
        "            if v <= alpha:\n",
        "                return v, move\n",
        "        return v, move\n",
        "\n",
        "    return max_value(state, -math.inf, math.inf)\n"
      ],
      "metadata": {
        "id": "u4VVtccCdDMY"
      },
      "execution_count": 13,
      "outputs": []
    },
    {
      "cell_type": "markdown",
      "source": [
        "#Part 3 Implement the Game Strategy using TicTocToe."
      ],
      "metadata": {
        "id": "i6_OooOkdW3l"
      }
    },
    {
      "cell_type": "markdown",
      "source": [
        "##Implement TicToCToe game using init , actions, result, is terminal, utilitydisplay constructors"
      ],
      "metadata": {
        "id": "-VXG2ZJHdetz"
      }
    },
    {
      "cell_type": "code",
      "source": [
        "class TicTacToe(Game):\n",
        "    \"\"\"Play TicTacToe on a height x width board, needing k in a row to win.\n",
        "       X plays first against O.\"\"\"\n",
        "\n",
        "    def __init__(self, height=3, width=3, k=3):\n",
        "        self.k = k  # k in a row to win\n",
        "        self.height = height\n",
        "        self.width = width\n",
        "        self.squares = [(x, y) for x in range(width) for y in range(height)]\n",
        "        self.initial = Board(height=height, width=width, to_move='X', utility=0)\n",
        "\n",
        "    def actions(self, board):\n",
        "        \"\"\"Legal moves are any square not yet taken.\"\"\"\n",
        "        return set(self.squares) - set(board)\n",
        "\n",
        "    def result(self, board, square):\n",
        "        \"\"\"Place a marker for the current player on the square.\"\"\"\n",
        "        player = board.to_move\n",
        "        next_player = 'O' if player == 'X' else 'X'\n",
        "        board = board.new(square=square, player=player, to_move=next_player)\n",
        "        win = self.k_in_row(board, player, square, self.k)\n",
        "        board.utility = (0 if not win else +1 if player == 'X' else -1)\n",
        "        return board\n",
        "\n",
        "    def utility(self, board, player):\n",
        "        \"\"\"Return the value to player; 1 for win, -1 for loss, 0 otherwise.\"\"\"\n",
        "        return board.utility if player == 'X' else -board.utility\n",
        "\n",
        "    def is_terminal(self, board):\n",
        "        \"\"\"A board is a terminal state if it is won or there are no empty squares.\"\"\"\n",
        "        return board.utility != 0 or len(self.squares) == len(board)\n",
        "\n",
        "    def display(self, board):\n",
        "        \"\"\"Print the board.\"\"\"\n",
        "        print(board)\n",
        "\n",
        "    def k_in_row(self, board, player, square, k):\n",
        "        \"\"\"Check if the player has k pieces in a line through square.\"\"\"\n",
        "        def in_row(x, y, dx, dy):\n",
        "            \"\"\"Count consecutive pieces of the player in the direction (dx, dy).\"\"\"\n",
        "            if board.get((x, y)) != player:\n",
        "                return 0\n",
        "            return 1 + in_row(x + dx, y + dy, dx, dy)\n",
        "\n",
        "        return any(\n",
        "            in_row(square[0], square[1], dx, dy) + in_row(square[0], square[1], -dx, -dy) - 1 >= k\n",
        "            for dx, dy in [(0, 1), (1, 0), (1, 1), (1, -1)]\n",
        "        )\n"
      ],
      "metadata": {
        "id": "3MFE84SbeE2I"
      },
      "execution_count": 6,
      "outputs": []
    },
    {
      "cell_type": "markdown",
      "source": [
        "# 2. Implement a Game Board using defaultdict using init , new, missing , hash ,repr\n",
        "\n"
      ],
      "metadata": {
        "id": "SCovE5Q1eSl8"
      }
    },
    {
      "cell_type": "markdown",
      "source": [],
      "metadata": {
        "id": "cBjYBHMrp5YC"
      }
    },
    {
      "cell_type": "code",
      "source": [
        "from collections import defaultdict\n",
        "\n",
        "class Board(defaultdict):\n",
        "    \"\"\"A board has the player to move, a cached utility value,\n",
        "       and a dict of (x, y): player entries, where player is 'X' or 'O'.\n",
        "       empty squares are denoted by '.', and off-board positions by '#'.\n",
        "    \"\"\"\n",
        "\n",
        "    empty = '.'\n",
        "    off = '#'\n",
        "\n",
        "    def __init__(self, width=8, height=8, to_move=None, **kwds):\n",
        "        super().__init__(self.missing)\n",
        "        self.width = width\n",
        "        self.height = height\n",
        "        self.to_move = to_move\n",
        "        self.update(**kwds)\n",
        "\n",
        "    def new(self, changes: dict, **kwds) -> 'Board':\n",
        "        \"\"\"Given a dict of (x, y): contents changes, return a new Board with the changes.\"\"\"\n",
        "        board = Board(width=self.width, height=self.height, to_move=self.to_move, **kwds)\n",
        "        board.update(self)\n",
        "        board.update(changes)\n",
        "        return board\n",
        "\n",
        "    def missing(self, loc):\n",
        "        \"\"\"Return the value for a location that is not on the board.\"\"\"\n",
        "        x, y = loc\n",
        "        if 0 <= x < self.width and 0 <= y < self.height:\n",
        "            return self.empty\n",
        "        else:\n",
        "            return self.off\n",
        "\n",
        "    def __hash__(self):\n",
        "        \"\"\"Hash the board based on its contents and the player to move.\"\"\"\n",
        "        return hash(tuple(sorted(self.items()))) + hash(self.to_move)\n",
        "\n",
        "    def __repr__(self):\n",
        "        \"\"\"String representation of the board.\"\"\"\n",
        "        def row(y):\n",
        "            return ''.join(self[x, y] for x in range(self.width))\n",
        "        return '\\n'.join(map(row, range(self.height))) + '\\n'\n"
      ],
      "metadata": {
        "id": "ouwW0FqoeiV-"
      },
      "execution_count": 7,
      "outputs": []
    },
    {
      "cell_type": "markdown",
      "source": [
        "# 3. Implement random player(game,state) and player(search algorithm)"
      ],
      "metadata": {
        "id": "L9Jf_tTTeyvP"
      }
    },
    {
      "cell_type": "code",
      "source": [
        "\n",
        ".import random\n",
        "\n",
        "def random_player(game, state):\n",
        "    \"\"\"Return a random move from the available actions.\"\"\"\n",
        "    return random.choice(list(game.actions(state)))\n",
        "\n",
        "def player(search_algorithm):\n",
        "    \"\"\"Return a game player function that uses the specified search algorithm.\"\"\"\n",
        "    return lambda game, state: search_algorithm(game, state)[1]\n"
      ],
      "metadata": {
        "id": "o-sgB2j6fHcd"
      },
      "execution_count": 8,
      "outputs": []
    },
    {
      "cell_type": "markdown",
      "source": [
        "## Evaluate the AI Game Strategy using TicTocToe."
      ],
      "metadata": {
        "id": "Za7UGpd5pfbU"
      }
    },
    {
      "cell_type": "markdown",
      "source": [
        "# Implement GameStrategy using"
      ],
      "metadata": {
        "id": "3oXiE9G_pm15"
      }
    },
    {
      "cell_type": "code",
      "source": [],
      "metadata": {
        "id": "77sFu8rdpovw"
      },
      "execution_count": null,
      "outputs": []
    }
  ]
}